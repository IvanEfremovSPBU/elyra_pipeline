{
 "cells": [
  {
   "cell_type": "code",
   "execution_count": 1,
   "id": "b0422989",
   "metadata": {
    "execution": {
     "iopub.execute_input": "2024-01-28T17:15:40.409571Z",
     "iopub.status.busy": "2024-01-28T17:15:40.409571Z",
     "iopub.status.idle": "2024-01-28T17:15:41.063889Z",
     "shell.execute_reply": "2024-01-28T17:15:41.063889Z"
    },
    "papermill": {
     "duration": 0.659322,
     "end_time": "2024-01-28T17:15:41.064892",
     "exception": false,
     "start_time": "2024-01-28T17:15:40.405570",
     "status": "completed"
    },
    "tags": []
   },
   "outputs": [],
   "source": [
    "import pandas as pd\n",
    "import numpy as np\n",
    "import matplotlib.pyplot as plt\n",
    "%matplotlib inline\n",
    "import seaborn as sns\n",
    "import random\n",
    "from collections import Counter\n",
    "sns.set() "
   ]
  },
  {
   "cell_type": "code",
   "execution_count": 2,
   "id": "40107652",
   "metadata": {
    "execution": {
     "iopub.execute_input": "2024-01-28T17:15:41.071888Z",
     "iopub.status.busy": "2024-01-28T17:15:41.071888Z",
     "iopub.status.idle": "2024-01-28T17:15:41.089412Z",
     "shell.execute_reply": "2024-01-28T17:15:41.089412Z"
    },
    "papermill": {
     "duration": 0.022517,
     "end_time": "2024-01-28T17:15:41.090409",
     "exception": false,
     "start_time": "2024-01-28T17:15:41.067892",
     "status": "completed"
    },
    "tags": []
   },
   "outputs": [],
   "source": [
    "test = pd.read_csv('test.csv')\n",
    "train = pd.read_csv('train.csv')"
   ]
  },
  {
   "cell_type": "markdown",
   "id": "0512164c",
   "metadata": {
    "papermill": {
     "duration": 0.003001,
     "end_time": "2024-01-28T17:15:41.096410",
     "exception": false,
     "start_time": "2024-01-28T17:15:41.093409",
     "status": "completed"
    },
    "tags": []
   },
   "source": [
    "## Исследование датасета"
   ]
  },
  {
   "cell_type": "markdown",
   "id": "2315f380",
   "metadata": {
    "papermill": {
     "duration": 0.003001,
     "end_time": "2024-01-28T17:15:41.101411",
     "exception": false,
     "start_time": "2024-01-28T17:15:41.098410",
     "status": "completed"
    },
    "tags": []
   },
   "source": [
    "**Исследуем выборку train**"
   ]
  },
  {
   "cell_type": "code",
   "execution_count": 3,
   "id": "0389821a",
   "metadata": {
    "execution": {
     "iopub.execute_input": "2024-01-28T17:15:41.107413Z",
     "iopub.status.busy": "2024-01-28T17:15:41.107413Z",
     "iopub.status.idle": "2024-01-28T17:15:41.115050Z",
     "shell.execute_reply": "2024-01-28T17:15:41.115050Z"
    },
    "papermill": {
     "duration": 0.011634,
     "end_time": "2024-01-28T17:15:41.116046",
     "exception": false,
     "start_time": "2024-01-28T17:15:41.104412",
     "status": "completed"
    },
    "tags": []
   },
   "outputs": [
    {
     "data": {
      "text/html": [
       "<div>\n",
       "<style scoped>\n",
       "    .dataframe tbody tr th:only-of-type {\n",
       "        vertical-align: middle;\n",
       "    }\n",
       "\n",
       "    .dataframe tbody tr th {\n",
       "        vertical-align: top;\n",
       "    }\n",
       "\n",
       "    .dataframe thead th {\n",
       "        text-align: right;\n",
       "    }\n",
       "</style>\n",
       "<table border=\"1\" class=\"dataframe\">\n",
       "  <thead>\n",
       "    <tr style=\"text-align: right;\">\n",
       "      <th></th>\n",
       "      <th>PassengerId</th>\n",
       "      <th>HomePlanet</th>\n",
       "      <th>CryoSleep</th>\n",
       "      <th>Cabin</th>\n",
       "      <th>Destination</th>\n",
       "      <th>Age</th>\n",
       "      <th>VIP</th>\n",
       "      <th>RoomService</th>\n",
       "      <th>FoodCourt</th>\n",
       "      <th>ShoppingMall</th>\n",
       "      <th>Spa</th>\n",
       "      <th>VRDeck</th>\n",
       "      <th>Name</th>\n",
       "      <th>Transported</th>\n",
       "    </tr>\n",
       "  </thead>\n",
       "  <tbody>\n",
       "    <tr>\n",
       "      <th>0</th>\n",
       "      <td>0001_01</td>\n",
       "      <td>Europa</td>\n",
       "      <td>False</td>\n",
       "      <td>B/0/P</td>\n",
       "      <td>TRAPPIST-1e</td>\n",
       "      <td>39.0</td>\n",
       "      <td>False</td>\n",
       "      <td>0.0</td>\n",
       "      <td>0.0</td>\n",
       "      <td>0.0</td>\n",
       "      <td>0.0</td>\n",
       "      <td>0.0</td>\n",
       "      <td>Maham Ofracculy</td>\n",
       "      <td>False</td>\n",
       "    </tr>\n",
       "    <tr>\n",
       "      <th>1</th>\n",
       "      <td>0002_01</td>\n",
       "      <td>Earth</td>\n",
       "      <td>False</td>\n",
       "      <td>F/0/S</td>\n",
       "      <td>TRAPPIST-1e</td>\n",
       "      <td>24.0</td>\n",
       "      <td>False</td>\n",
       "      <td>109.0</td>\n",
       "      <td>9.0</td>\n",
       "      <td>25.0</td>\n",
       "      <td>549.0</td>\n",
       "      <td>44.0</td>\n",
       "      <td>Juanna Vines</td>\n",
       "      <td>True</td>\n",
       "    </tr>\n",
       "    <tr>\n",
       "      <th>2</th>\n",
       "      <td>0003_01</td>\n",
       "      <td>Europa</td>\n",
       "      <td>False</td>\n",
       "      <td>A/0/S</td>\n",
       "      <td>TRAPPIST-1e</td>\n",
       "      <td>58.0</td>\n",
       "      <td>True</td>\n",
       "      <td>43.0</td>\n",
       "      <td>3576.0</td>\n",
       "      <td>0.0</td>\n",
       "      <td>6715.0</td>\n",
       "      <td>49.0</td>\n",
       "      <td>Altark Susent</td>\n",
       "      <td>False</td>\n",
       "    </tr>\n",
       "    <tr>\n",
       "      <th>3</th>\n",
       "      <td>0003_02</td>\n",
       "      <td>Europa</td>\n",
       "      <td>False</td>\n",
       "      <td>A/0/S</td>\n",
       "      <td>TRAPPIST-1e</td>\n",
       "      <td>33.0</td>\n",
       "      <td>False</td>\n",
       "      <td>0.0</td>\n",
       "      <td>1283.0</td>\n",
       "      <td>371.0</td>\n",
       "      <td>3329.0</td>\n",
       "      <td>193.0</td>\n",
       "      <td>Solam Susent</td>\n",
       "      <td>False</td>\n",
       "    </tr>\n",
       "    <tr>\n",
       "      <th>4</th>\n",
       "      <td>0004_01</td>\n",
       "      <td>Earth</td>\n",
       "      <td>False</td>\n",
       "      <td>F/1/S</td>\n",
       "      <td>TRAPPIST-1e</td>\n",
       "      <td>16.0</td>\n",
       "      <td>False</td>\n",
       "      <td>303.0</td>\n",
       "      <td>70.0</td>\n",
       "      <td>151.0</td>\n",
       "      <td>565.0</td>\n",
       "      <td>2.0</td>\n",
       "      <td>Willy Santantines</td>\n",
       "      <td>True</td>\n",
       "    </tr>\n",
       "  </tbody>\n",
       "</table>\n",
       "</div>"
      ],
      "text/plain": [
       "  PassengerId HomePlanet CryoSleep  Cabin  Destination   Age    VIP  \\\n",
       "0     0001_01     Europa     False  B/0/P  TRAPPIST-1e  39.0  False   \n",
       "1     0002_01      Earth     False  F/0/S  TRAPPIST-1e  24.0  False   \n",
       "2     0003_01     Europa     False  A/0/S  TRAPPIST-1e  58.0   True   \n",
       "3     0003_02     Europa     False  A/0/S  TRAPPIST-1e  33.0  False   \n",
       "4     0004_01      Earth     False  F/1/S  TRAPPIST-1e  16.0  False   \n",
       "\n",
       "   RoomService  FoodCourt  ShoppingMall     Spa  VRDeck               Name  \\\n",
       "0          0.0        0.0           0.0     0.0     0.0    Maham Ofracculy   \n",
       "1        109.0        9.0          25.0   549.0    44.0       Juanna Vines   \n",
       "2         43.0     3576.0           0.0  6715.0    49.0      Altark Susent   \n",
       "3          0.0     1283.0         371.0  3329.0   193.0       Solam Susent   \n",
       "4        303.0       70.0         151.0   565.0     2.0  Willy Santantines   \n",
       "\n",
       "   Transported  \n",
       "0        False  \n",
       "1         True  \n",
       "2        False  \n",
       "3        False  \n",
       "4         True  "
      ]
     },
     "execution_count": 3,
     "metadata": {},
     "output_type": "execute_result"
    }
   ],
   "source": [
    "train.head()"
   ]
  },
  {
   "cell_type": "markdown",
   "id": "ed6b947b",
   "metadata": {
    "papermill": {
     "duration": 0.003001,
     "end_time": "2024-01-28T17:15:41.121048",
     "exception": false,
     "start_time": "2024-01-28T17:15:41.118047",
     "status": "completed"
    },
    "tags": []
   },
   "source": [
    "PassengerId - A unique Id for each passenger. Each Id takes the form gggg_pp where gggg indicates a group the passenger is travelling with and pp is their number within the group. People in a group are often family members, but not always.\n",
    "\n",
    "HomePlanet - The planet the passenger departed from, typically their planet of permanent residence.\n",
    "\n",
    "CryoSleep - Indicates whether the passenger elected to be put into suspended animation for the duration of the voyage. Passengers in cryosleep are confined to their cabins.\n",
    "\n",
    "Cabin - The cabin number where the passenger is staying. Takes the form deck/num/side, where side can be either P for Port or S for Starboard.\n",
    "\n",
    "Destination - The planet the passenger will be debarking to.\n",
    "\n",
    "Age - The age of the passenger.\n",
    "\n",
    "VIP - Whether the passenger has paid for special VIP service during the voyage.\n",
    "\n",
    "RoomService, FoodCourt, ShoppingMall, Spa, VRDeck - Amount the passenger has billed at each of the Spaceship Titanic's many luxury amenities.\n",
    "\n",
    "Name - The first and last names of the passenger.\n",
    "\n",
    "Transported - Whether the passenger was transported to another dimension. This is the target, the column you are trying to predict."
   ]
  },
  {
   "cell_type": "code",
   "execution_count": 4,
   "id": "22feb97c",
   "metadata": {
    "execution": {
     "iopub.execute_input": "2024-01-28T17:15:41.128049Z",
     "iopub.status.busy": "2024-01-28T17:15:41.128049Z",
     "iopub.status.idle": "2024-01-28T17:15:41.129992Z",
     "shell.execute_reply": "2024-01-28T17:15:41.129992Z"
    },
    "papermill": {
     "duration": 0.005944,
     "end_time": "2024-01-28T17:15:41.129992",
     "exception": false,
     "start_time": "2024-01-28T17:15:41.124048",
     "status": "completed"
    },
    "tags": []
   },
   "outputs": [
    {
     "data": {
      "text/plain": [
       "(8693, 14)"
      ]
     },
     "execution_count": 4,
     "metadata": {},
     "output_type": "execute_result"
    }
   ],
   "source": [
    "train.shape"
   ]
  },
  {
   "cell_type": "code",
   "execution_count": 5,
   "id": "fcea84f9",
   "metadata": {
    "execution": {
     "iopub.execute_input": "2024-01-28T17:15:41.136990Z",
     "iopub.status.busy": "2024-01-28T17:15:41.136990Z",
     "iopub.status.idle": "2024-01-28T17:15:41.144791Z",
     "shell.execute_reply": "2024-01-28T17:15:41.144791Z"
    },
    "papermill": {
     "duration": 0.011802,
     "end_time": "2024-01-28T17:15:41.144791",
     "exception": false,
     "start_time": "2024-01-28T17:15:41.132989",
     "status": "completed"
    },
    "tags": []
   },
   "outputs": [
    {
     "data": {
      "text/html": [
       "<div>\n",
       "<style scoped>\n",
       "    .dataframe tbody tr th:only-of-type {\n",
       "        vertical-align: middle;\n",
       "    }\n",
       "\n",
       "    .dataframe tbody tr th {\n",
       "        vertical-align: top;\n",
       "    }\n",
       "\n",
       "    .dataframe thead th {\n",
       "        text-align: right;\n",
       "    }\n",
       "</style>\n",
       "<table border=\"1\" class=\"dataframe\">\n",
       "  <thead>\n",
       "    <tr style=\"text-align: right;\">\n",
       "      <th></th>\n",
       "      <th>Age</th>\n",
       "      <th>RoomService</th>\n",
       "      <th>FoodCourt</th>\n",
       "      <th>ShoppingMall</th>\n",
       "      <th>Spa</th>\n",
       "      <th>VRDeck</th>\n",
       "    </tr>\n",
       "  </thead>\n",
       "  <tbody>\n",
       "    <tr>\n",
       "      <th>count</th>\n",
       "      <td>8514.000000</td>\n",
       "      <td>8512.000000</td>\n",
       "      <td>8510.000000</td>\n",
       "      <td>8485.000000</td>\n",
       "      <td>8510.000000</td>\n",
       "      <td>8505.000000</td>\n",
       "    </tr>\n",
       "    <tr>\n",
       "      <th>mean</th>\n",
       "      <td>28.827930</td>\n",
       "      <td>224.687617</td>\n",
       "      <td>458.077203</td>\n",
       "      <td>173.729169</td>\n",
       "      <td>311.138778</td>\n",
       "      <td>304.854791</td>\n",
       "    </tr>\n",
       "    <tr>\n",
       "      <th>std</th>\n",
       "      <td>14.489021</td>\n",
       "      <td>666.717663</td>\n",
       "      <td>1611.489240</td>\n",
       "      <td>604.696458</td>\n",
       "      <td>1136.705535</td>\n",
       "      <td>1145.717189</td>\n",
       "    </tr>\n",
       "    <tr>\n",
       "      <th>min</th>\n",
       "      <td>0.000000</td>\n",
       "      <td>0.000000</td>\n",
       "      <td>0.000000</td>\n",
       "      <td>0.000000</td>\n",
       "      <td>0.000000</td>\n",
       "      <td>0.000000</td>\n",
       "    </tr>\n",
       "    <tr>\n",
       "      <th>25%</th>\n",
       "      <td>19.000000</td>\n",
       "      <td>0.000000</td>\n",
       "      <td>0.000000</td>\n",
       "      <td>0.000000</td>\n",
       "      <td>0.000000</td>\n",
       "      <td>0.000000</td>\n",
       "    </tr>\n",
       "    <tr>\n",
       "      <th>50%</th>\n",
       "      <td>27.000000</td>\n",
       "      <td>0.000000</td>\n",
       "      <td>0.000000</td>\n",
       "      <td>0.000000</td>\n",
       "      <td>0.000000</td>\n",
       "      <td>0.000000</td>\n",
       "    </tr>\n",
       "    <tr>\n",
       "      <th>75%</th>\n",
       "      <td>38.000000</td>\n",
       "      <td>47.000000</td>\n",
       "      <td>76.000000</td>\n",
       "      <td>27.000000</td>\n",
       "      <td>59.000000</td>\n",
       "      <td>46.000000</td>\n",
       "    </tr>\n",
       "    <tr>\n",
       "      <th>max</th>\n",
       "      <td>79.000000</td>\n",
       "      <td>14327.000000</td>\n",
       "      <td>29813.000000</td>\n",
       "      <td>23492.000000</td>\n",
       "      <td>22408.000000</td>\n",
       "      <td>24133.000000</td>\n",
       "    </tr>\n",
       "  </tbody>\n",
       "</table>\n",
       "</div>"
      ],
      "text/plain": [
       "               Age   RoomService     FoodCourt  ShoppingMall           Spa  \\\n",
       "count  8514.000000   8512.000000   8510.000000   8485.000000   8510.000000   \n",
       "mean     28.827930    224.687617    458.077203    173.729169    311.138778   \n",
       "std      14.489021    666.717663   1611.489240    604.696458   1136.705535   \n",
       "min       0.000000      0.000000      0.000000      0.000000      0.000000   \n",
       "25%      19.000000      0.000000      0.000000      0.000000      0.000000   \n",
       "50%      27.000000      0.000000      0.000000      0.000000      0.000000   \n",
       "75%      38.000000     47.000000     76.000000     27.000000     59.000000   \n",
       "max      79.000000  14327.000000  29813.000000  23492.000000  22408.000000   \n",
       "\n",
       "             VRDeck  \n",
       "count   8505.000000  \n",
       "mean     304.854791  \n",
       "std     1145.717189  \n",
       "min        0.000000  \n",
       "25%        0.000000  \n",
       "50%        0.000000  \n",
       "75%       46.000000  \n",
       "max    24133.000000  "
      ]
     },
     "execution_count": 5,
     "metadata": {},
     "output_type": "execute_result"
    }
   ],
   "source": [
    "train.describe()"
   ]
  },
  {
   "cell_type": "code",
   "execution_count": 6,
   "id": "040f03c0",
   "metadata": {
    "execution": {
     "iopub.execute_input": "2024-01-28T17:15:41.152790Z",
     "iopub.status.busy": "2024-01-28T17:15:41.152790Z",
     "iopub.status.idle": "2024-01-28T17:15:41.163233Z",
     "shell.execute_reply": "2024-01-28T17:15:41.163233Z"
    },
    "papermill": {
     "duration": 0.015444,
     "end_time": "2024-01-28T17:15:41.163233",
     "exception": false,
     "start_time": "2024-01-28T17:15:41.147789",
     "status": "completed"
    },
    "tags": []
   },
   "outputs": [
    {
     "data": {
      "text/html": [
       "<div>\n",
       "<style scoped>\n",
       "    .dataframe tbody tr th:only-of-type {\n",
       "        vertical-align: middle;\n",
       "    }\n",
       "\n",
       "    .dataframe tbody tr th {\n",
       "        vertical-align: top;\n",
       "    }\n",
       "\n",
       "    .dataframe thead th {\n",
       "        text-align: right;\n",
       "    }\n",
       "</style>\n",
       "<table border=\"1\" class=\"dataframe\">\n",
       "  <thead>\n",
       "    <tr style=\"text-align: right;\">\n",
       "      <th></th>\n",
       "      <th>PassengerId</th>\n",
       "      <th>HomePlanet</th>\n",
       "      <th>CryoSleep</th>\n",
       "      <th>Cabin</th>\n",
       "      <th>Destination</th>\n",
       "      <th>VIP</th>\n",
       "      <th>Name</th>\n",
       "    </tr>\n",
       "  </thead>\n",
       "  <tbody>\n",
       "    <tr>\n",
       "      <th>count</th>\n",
       "      <td>8693</td>\n",
       "      <td>8492</td>\n",
       "      <td>8476</td>\n",
       "      <td>8494</td>\n",
       "      <td>8511</td>\n",
       "      <td>8490</td>\n",
       "      <td>8493</td>\n",
       "    </tr>\n",
       "    <tr>\n",
       "      <th>unique</th>\n",
       "      <td>8693</td>\n",
       "      <td>3</td>\n",
       "      <td>2</td>\n",
       "      <td>6560</td>\n",
       "      <td>3</td>\n",
       "      <td>2</td>\n",
       "      <td>8473</td>\n",
       "    </tr>\n",
       "    <tr>\n",
       "      <th>top</th>\n",
       "      <td>0001_01</td>\n",
       "      <td>Earth</td>\n",
       "      <td>False</td>\n",
       "      <td>G/734/S</td>\n",
       "      <td>TRAPPIST-1e</td>\n",
       "      <td>False</td>\n",
       "      <td>Gollux Reedall</td>\n",
       "    </tr>\n",
       "    <tr>\n",
       "      <th>freq</th>\n",
       "      <td>1</td>\n",
       "      <td>4602</td>\n",
       "      <td>5439</td>\n",
       "      <td>8</td>\n",
       "      <td>5915</td>\n",
       "      <td>8291</td>\n",
       "      <td>2</td>\n",
       "    </tr>\n",
       "  </tbody>\n",
       "</table>\n",
       "</div>"
      ],
      "text/plain": [
       "       PassengerId HomePlanet CryoSleep    Cabin  Destination    VIP  \\\n",
       "count         8693       8492      8476     8494         8511   8490   \n",
       "unique        8693          3         2     6560            3      2   \n",
       "top        0001_01      Earth     False  G/734/S  TRAPPIST-1e  False   \n",
       "freq             1       4602      5439        8         5915   8291   \n",
       "\n",
       "                  Name  \n",
       "count             8493  \n",
       "unique            8473  \n",
       "top     Gollux Reedall  \n",
       "freq                 2  "
      ]
     },
     "execution_count": 6,
     "metadata": {},
     "output_type": "execute_result"
    }
   ],
   "source": [
    "train.describe(include=['O'])"
   ]
  },
  {
   "cell_type": "code",
   "execution_count": 7,
   "id": "ecbea428",
   "metadata": {
    "execution": {
     "iopub.execute_input": "2024-01-28T17:15:41.170232Z",
     "iopub.status.busy": "2024-01-28T17:15:41.170232Z",
     "iopub.status.idle": "2024-01-28T17:15:41.176058Z",
     "shell.execute_reply": "2024-01-28T17:15:41.176058Z"
    },
    "papermill": {
     "duration": 0.009823,
     "end_time": "2024-01-28T17:15:41.177055",
     "exception": false,
     "start_time": "2024-01-28T17:15:41.167232",
     "status": "completed"
    },
    "tags": []
   },
   "outputs": [
    {
     "name": "stdout",
     "output_type": "stream",
     "text": [
      "<class 'pandas.core.frame.DataFrame'>\n",
      "RangeIndex: 8693 entries, 0 to 8692\n",
      "Data columns (total 14 columns):\n",
      " #   Column        Non-Null Count  Dtype  \n",
      "---  ------        --------------  -----  \n",
      " 0   PassengerId   8693 non-null   object \n",
      " 1   HomePlanet    8492 non-null   object \n",
      " 2   CryoSleep     8476 non-null   object \n",
      " 3   Cabin         8494 non-null   object \n",
      " 4   Destination   8511 non-null   object \n",
      " 5   Age           8514 non-null   float64\n",
      " 6   VIP           8490 non-null   object \n",
      " 7   RoomService   8512 non-null   float64\n",
      " 8   FoodCourt     8510 non-null   float64\n",
      " 9   ShoppingMall  8485 non-null   float64\n",
      " 10  Spa           8510 non-null   float64\n",
      " 11  VRDeck        8505 non-null   float64\n",
      " 12  Name          8493 non-null   object \n",
      " 13  Transported   8693 non-null   bool   \n",
      "dtypes: bool(1), float64(6), object(7)\n",
      "memory usage: 891.5+ KB\n"
     ]
    }
   ],
   "source": [
    "train.info()"
   ]
  },
  {
   "cell_type": "code",
   "execution_count": 8,
   "id": "74ef19c0",
   "metadata": {
    "execution": {
     "iopub.execute_input": "2024-01-28T17:15:41.184057Z",
     "iopub.status.busy": "2024-01-28T17:15:41.184057Z",
     "iopub.status.idle": "2024-01-28T17:15:41.188612Z",
     "shell.execute_reply": "2024-01-28T17:15:41.188612Z"
    },
    "papermill": {
     "duration": 0.008556,
     "end_time": "2024-01-28T17:15:41.188612",
     "exception": false,
     "start_time": "2024-01-28T17:15:41.180056",
     "status": "completed"
    },
    "tags": []
   },
   "outputs": [
    {
     "data": {
      "text/plain": [
       "PassengerId       0\n",
       "HomePlanet      201\n",
       "CryoSleep       217\n",
       "Cabin           199\n",
       "Destination     182\n",
       "Age             179\n",
       "VIP             203\n",
       "RoomService     181\n",
       "FoodCourt       183\n",
       "ShoppingMall    208\n",
       "Spa             183\n",
       "VRDeck          188\n",
       "Name            200\n",
       "Transported       0\n",
       "dtype: int64"
      ]
     },
     "execution_count": 8,
     "metadata": {},
     "output_type": "execute_result"
    }
   ],
   "source": [
    "train.isnull().sum()"
   ]
  },
  {
   "cell_type": "markdown",
   "id": "ad60ea42",
   "metadata": {
    "papermill": {
     "duration": 0.004002,
     "end_time": "2024-01-28T17:15:41.196612",
     "exception": false,
     "start_time": "2024-01-28T17:15:41.192610",
     "status": "completed"
    },
    "tags": []
   },
   "source": [
    "В каждом столбце присутствуют пустые значения"
   ]
  },
  {
   "cell_type": "code",
   "execution_count": 9,
   "id": "798490f1",
   "metadata": {
    "execution": {
     "iopub.execute_input": "2024-01-28T17:15:41.203613Z",
     "iopub.status.busy": "2024-01-28T17:15:41.203613Z",
     "iopub.status.idle": "2024-01-28T17:15:41.209308Z",
     "shell.execute_reply": "2024-01-28T17:15:41.209308Z"
    },
    "papermill": {
     "duration": 0.009696,
     "end_time": "2024-01-28T17:15:41.209308",
     "exception": false,
     "start_time": "2024-01-28T17:15:41.199612",
     "status": "completed"
    },
    "tags": []
   },
   "outputs": [
    {
     "data": {
      "text/html": [
       "<div>\n",
       "<style scoped>\n",
       "    .dataframe tbody tr th:only-of-type {\n",
       "        vertical-align: middle;\n",
       "    }\n",
       "\n",
       "    .dataframe tbody tr th {\n",
       "        vertical-align: top;\n",
       "    }\n",
       "\n",
       "    .dataframe thead th {\n",
       "        text-align: right;\n",
       "    }\n",
       "</style>\n",
       "<table border=\"1\" class=\"dataframe\">\n",
       "  <thead>\n",
       "    <tr style=\"text-align: right;\">\n",
       "      <th></th>\n",
       "      <th>PassengerId</th>\n",
       "      <th>HomePlanet</th>\n",
       "      <th>CryoSleep</th>\n",
       "      <th>Cabin</th>\n",
       "      <th>Destination</th>\n",
       "      <th>Age</th>\n",
       "      <th>VIP</th>\n",
       "      <th>RoomService</th>\n",
       "      <th>FoodCourt</th>\n",
       "      <th>ShoppingMall</th>\n",
       "      <th>Spa</th>\n",
       "      <th>VRDeck</th>\n",
       "      <th>Name</th>\n",
       "    </tr>\n",
       "  </thead>\n",
       "  <tbody>\n",
       "    <tr>\n",
       "      <th>0</th>\n",
       "      <td>0013_01</td>\n",
       "      <td>Earth</td>\n",
       "      <td>True</td>\n",
       "      <td>G/3/S</td>\n",
       "      <td>TRAPPIST-1e</td>\n",
       "      <td>27.0</td>\n",
       "      <td>False</td>\n",
       "      <td>0.0</td>\n",
       "      <td>0.0</td>\n",
       "      <td>0.0</td>\n",
       "      <td>0.0</td>\n",
       "      <td>0.0</td>\n",
       "      <td>Nelly Carsoning</td>\n",
       "    </tr>\n",
       "    <tr>\n",
       "      <th>1</th>\n",
       "      <td>0018_01</td>\n",
       "      <td>Earth</td>\n",
       "      <td>False</td>\n",
       "      <td>F/4/S</td>\n",
       "      <td>TRAPPIST-1e</td>\n",
       "      <td>19.0</td>\n",
       "      <td>False</td>\n",
       "      <td>0.0</td>\n",
       "      <td>9.0</td>\n",
       "      <td>0.0</td>\n",
       "      <td>2823.0</td>\n",
       "      <td>0.0</td>\n",
       "      <td>Lerome Peckers</td>\n",
       "    </tr>\n",
       "    <tr>\n",
       "      <th>2</th>\n",
       "      <td>0019_01</td>\n",
       "      <td>Europa</td>\n",
       "      <td>True</td>\n",
       "      <td>C/0/S</td>\n",
       "      <td>55 Cancri e</td>\n",
       "      <td>31.0</td>\n",
       "      <td>False</td>\n",
       "      <td>0.0</td>\n",
       "      <td>0.0</td>\n",
       "      <td>0.0</td>\n",
       "      <td>0.0</td>\n",
       "      <td>0.0</td>\n",
       "      <td>Sabih Unhearfus</td>\n",
       "    </tr>\n",
       "    <tr>\n",
       "      <th>3</th>\n",
       "      <td>0021_01</td>\n",
       "      <td>Europa</td>\n",
       "      <td>False</td>\n",
       "      <td>C/1/S</td>\n",
       "      <td>TRAPPIST-1e</td>\n",
       "      <td>38.0</td>\n",
       "      <td>False</td>\n",
       "      <td>0.0</td>\n",
       "      <td>6652.0</td>\n",
       "      <td>0.0</td>\n",
       "      <td>181.0</td>\n",
       "      <td>585.0</td>\n",
       "      <td>Meratz Caltilter</td>\n",
       "    </tr>\n",
       "    <tr>\n",
       "      <th>4</th>\n",
       "      <td>0023_01</td>\n",
       "      <td>Earth</td>\n",
       "      <td>False</td>\n",
       "      <td>F/5/S</td>\n",
       "      <td>TRAPPIST-1e</td>\n",
       "      <td>20.0</td>\n",
       "      <td>False</td>\n",
       "      <td>10.0</td>\n",
       "      <td>0.0</td>\n",
       "      <td>635.0</td>\n",
       "      <td>0.0</td>\n",
       "      <td>0.0</td>\n",
       "      <td>Brence Harperez</td>\n",
       "    </tr>\n",
       "  </tbody>\n",
       "</table>\n",
       "</div>"
      ],
      "text/plain": [
       "  PassengerId HomePlanet CryoSleep  Cabin  Destination   Age    VIP  \\\n",
       "0     0013_01      Earth      True  G/3/S  TRAPPIST-1e  27.0  False   \n",
       "1     0018_01      Earth     False  F/4/S  TRAPPIST-1e  19.0  False   \n",
       "2     0019_01     Europa      True  C/0/S  55 Cancri e  31.0  False   \n",
       "3     0021_01     Europa     False  C/1/S  TRAPPIST-1e  38.0  False   \n",
       "4     0023_01      Earth     False  F/5/S  TRAPPIST-1e  20.0  False   \n",
       "\n",
       "   RoomService  FoodCourt  ShoppingMall     Spa  VRDeck              Name  \n",
       "0          0.0        0.0           0.0     0.0     0.0   Nelly Carsoning  \n",
       "1          0.0        9.0           0.0  2823.0     0.0    Lerome Peckers  \n",
       "2          0.0        0.0           0.0     0.0     0.0   Sabih Unhearfus  \n",
       "3          0.0     6652.0           0.0   181.0   585.0  Meratz Caltilter  \n",
       "4         10.0        0.0         635.0     0.0     0.0   Brence Harperez  "
      ]
     },
     "execution_count": 9,
     "metadata": {},
     "output_type": "execute_result"
    }
   ],
   "source": [
    "test.head()"
   ]
  },
  {
   "cell_type": "markdown",
   "id": "e5bc6a5d",
   "metadata": {
    "papermill": {
     "duration": 0.003,
     "end_time": "2024-01-28T17:15:41.216306",
     "exception": false,
     "start_time": "2024-01-28T17:15:41.213306",
     "status": "completed"
    },
    "tags": []
   },
   "source": [
    "**Исследуем выборку test**"
   ]
  },
  {
   "cell_type": "code",
   "execution_count": 10,
   "id": "e6fcb4da",
   "metadata": {
    "execution": {
     "iopub.execute_input": "2024-01-28T17:15:41.223309Z",
     "iopub.status.busy": "2024-01-28T17:15:41.223309Z",
     "iopub.status.idle": "2024-01-28T17:15:41.225501Z",
     "shell.execute_reply": "2024-01-28T17:15:41.225501Z"
    },
    "papermill": {
     "duration": 0.006194,
     "end_time": "2024-01-28T17:15:41.225501",
     "exception": false,
     "start_time": "2024-01-28T17:15:41.219307",
     "status": "completed"
    },
    "tags": []
   },
   "outputs": [
    {
     "data": {
      "text/plain": [
       "(4277, 13)"
      ]
     },
     "execution_count": 10,
     "metadata": {},
     "output_type": "execute_result"
    }
   ],
   "source": [
    "test.shape"
   ]
  },
  {
   "cell_type": "code",
   "execution_count": 11,
   "id": "71bf5152",
   "metadata": {
    "execution": {
     "iopub.execute_input": "2024-01-28T17:15:41.232499Z",
     "iopub.status.busy": "2024-01-28T17:15:41.232499Z",
     "iopub.status.idle": "2024-01-28T17:15:41.240242Z",
     "shell.execute_reply": "2024-01-28T17:15:41.240242Z"
    },
    "papermill": {
     "duration": 0.010743,
     "end_time": "2024-01-28T17:15:41.240242",
     "exception": false,
     "start_time": "2024-01-28T17:15:41.229499",
     "status": "completed"
    },
    "tags": []
   },
   "outputs": [
    {
     "data": {
      "text/html": [
       "<div>\n",
       "<style scoped>\n",
       "    .dataframe tbody tr th:only-of-type {\n",
       "        vertical-align: middle;\n",
       "    }\n",
       "\n",
       "    .dataframe tbody tr th {\n",
       "        vertical-align: top;\n",
       "    }\n",
       "\n",
       "    .dataframe thead th {\n",
       "        text-align: right;\n",
       "    }\n",
       "</style>\n",
       "<table border=\"1\" class=\"dataframe\">\n",
       "  <thead>\n",
       "    <tr style=\"text-align: right;\">\n",
       "      <th></th>\n",
       "      <th>Age</th>\n",
       "      <th>RoomService</th>\n",
       "      <th>FoodCourt</th>\n",
       "      <th>ShoppingMall</th>\n",
       "      <th>Spa</th>\n",
       "      <th>VRDeck</th>\n",
       "    </tr>\n",
       "  </thead>\n",
       "  <tbody>\n",
       "    <tr>\n",
       "      <th>count</th>\n",
       "      <td>4186.000000</td>\n",
       "      <td>4195.000000</td>\n",
       "      <td>4171.000000</td>\n",
       "      <td>4179.000000</td>\n",
       "      <td>4176.000000</td>\n",
       "      <td>4197.000000</td>\n",
       "    </tr>\n",
       "    <tr>\n",
       "      <th>mean</th>\n",
       "      <td>28.658146</td>\n",
       "      <td>219.266269</td>\n",
       "      <td>439.484296</td>\n",
       "      <td>177.295525</td>\n",
       "      <td>303.052443</td>\n",
       "      <td>310.710031</td>\n",
       "    </tr>\n",
       "    <tr>\n",
       "      <th>std</th>\n",
       "      <td>14.179072</td>\n",
       "      <td>607.011289</td>\n",
       "      <td>1527.663045</td>\n",
       "      <td>560.821123</td>\n",
       "      <td>1117.186015</td>\n",
       "      <td>1246.994742</td>\n",
       "    </tr>\n",
       "    <tr>\n",
       "      <th>min</th>\n",
       "      <td>0.000000</td>\n",
       "      <td>0.000000</td>\n",
       "      <td>0.000000</td>\n",
       "      <td>0.000000</td>\n",
       "      <td>0.000000</td>\n",
       "      <td>0.000000</td>\n",
       "    </tr>\n",
       "    <tr>\n",
       "      <th>25%</th>\n",
       "      <td>19.000000</td>\n",
       "      <td>0.000000</td>\n",
       "      <td>0.000000</td>\n",
       "      <td>0.000000</td>\n",
       "      <td>0.000000</td>\n",
       "      <td>0.000000</td>\n",
       "    </tr>\n",
       "    <tr>\n",
       "      <th>50%</th>\n",
       "      <td>26.000000</td>\n",
       "      <td>0.000000</td>\n",
       "      <td>0.000000</td>\n",
       "      <td>0.000000</td>\n",
       "      <td>0.000000</td>\n",
       "      <td>0.000000</td>\n",
       "    </tr>\n",
       "    <tr>\n",
       "      <th>75%</th>\n",
       "      <td>37.000000</td>\n",
       "      <td>53.000000</td>\n",
       "      <td>78.000000</td>\n",
       "      <td>33.000000</td>\n",
       "      <td>50.000000</td>\n",
       "      <td>36.000000</td>\n",
       "    </tr>\n",
       "    <tr>\n",
       "      <th>max</th>\n",
       "      <td>79.000000</td>\n",
       "      <td>11567.000000</td>\n",
       "      <td>25273.000000</td>\n",
       "      <td>8292.000000</td>\n",
       "      <td>19844.000000</td>\n",
       "      <td>22272.000000</td>\n",
       "    </tr>\n",
       "  </tbody>\n",
       "</table>\n",
       "</div>"
      ],
      "text/plain": [
       "               Age   RoomService     FoodCourt  ShoppingMall           Spa  \\\n",
       "count  4186.000000   4195.000000   4171.000000   4179.000000   4176.000000   \n",
       "mean     28.658146    219.266269    439.484296    177.295525    303.052443   \n",
       "std      14.179072    607.011289   1527.663045    560.821123   1117.186015   \n",
       "min       0.000000      0.000000      0.000000      0.000000      0.000000   \n",
       "25%      19.000000      0.000000      0.000000      0.000000      0.000000   \n",
       "50%      26.000000      0.000000      0.000000      0.000000      0.000000   \n",
       "75%      37.000000     53.000000     78.000000     33.000000     50.000000   \n",
       "max      79.000000  11567.000000  25273.000000   8292.000000  19844.000000   \n",
       "\n",
       "             VRDeck  \n",
       "count   4197.000000  \n",
       "mean     310.710031  \n",
       "std     1246.994742  \n",
       "min        0.000000  \n",
       "25%        0.000000  \n",
       "50%        0.000000  \n",
       "75%       36.000000  \n",
       "max    22272.000000  "
      ]
     },
     "execution_count": 11,
     "metadata": {},
     "output_type": "execute_result"
    }
   ],
   "source": [
    "test.describe()"
   ]
  },
  {
   "cell_type": "code",
   "execution_count": 12,
   "id": "6cff8af3",
   "metadata": {
    "execution": {
     "iopub.execute_input": "2024-01-28T17:15:41.247240Z",
     "iopub.status.busy": "2024-01-28T17:15:41.247240Z",
     "iopub.status.idle": "2024-01-28T17:15:41.255608Z",
     "shell.execute_reply": "2024-01-28T17:15:41.255608Z"
    },
    "papermill": {
     "duration": 0.011368,
     "end_time": "2024-01-28T17:15:41.255608",
     "exception": false,
     "start_time": "2024-01-28T17:15:41.244240",
     "status": "completed"
    },
    "tags": []
   },
   "outputs": [
    {
     "data": {
      "text/html": [
       "<div>\n",
       "<style scoped>\n",
       "    .dataframe tbody tr th:only-of-type {\n",
       "        vertical-align: middle;\n",
       "    }\n",
       "\n",
       "    .dataframe tbody tr th {\n",
       "        vertical-align: top;\n",
       "    }\n",
       "\n",
       "    .dataframe thead th {\n",
       "        text-align: right;\n",
       "    }\n",
       "</style>\n",
       "<table border=\"1\" class=\"dataframe\">\n",
       "  <thead>\n",
       "    <tr style=\"text-align: right;\">\n",
       "      <th></th>\n",
       "      <th>PassengerId</th>\n",
       "      <th>HomePlanet</th>\n",
       "      <th>CryoSleep</th>\n",
       "      <th>Cabin</th>\n",
       "      <th>Destination</th>\n",
       "      <th>VIP</th>\n",
       "      <th>Name</th>\n",
       "    </tr>\n",
       "  </thead>\n",
       "  <tbody>\n",
       "    <tr>\n",
       "      <th>count</th>\n",
       "      <td>4277</td>\n",
       "      <td>4190</td>\n",
       "      <td>4184</td>\n",
       "      <td>4177</td>\n",
       "      <td>4185</td>\n",
       "      <td>4184</td>\n",
       "      <td>4183</td>\n",
       "    </tr>\n",
       "    <tr>\n",
       "      <th>unique</th>\n",
       "      <td>4277</td>\n",
       "      <td>3</td>\n",
       "      <td>2</td>\n",
       "      <td>3265</td>\n",
       "      <td>3</td>\n",
       "      <td>2</td>\n",
       "      <td>4176</td>\n",
       "    </tr>\n",
       "    <tr>\n",
       "      <th>top</th>\n",
       "      <td>0013_01</td>\n",
       "      <td>Earth</td>\n",
       "      <td>False</td>\n",
       "      <td>G/160/P</td>\n",
       "      <td>TRAPPIST-1e</td>\n",
       "      <td>False</td>\n",
       "      <td>Cints Erle</td>\n",
       "    </tr>\n",
       "    <tr>\n",
       "      <th>freq</th>\n",
       "      <td>1</td>\n",
       "      <td>2263</td>\n",
       "      <td>2640</td>\n",
       "      <td>8</td>\n",
       "      <td>2956</td>\n",
       "      <td>4110</td>\n",
       "      <td>2</td>\n",
       "    </tr>\n",
       "  </tbody>\n",
       "</table>\n",
       "</div>"
      ],
      "text/plain": [
       "       PassengerId HomePlanet CryoSleep    Cabin  Destination    VIP  \\\n",
       "count         4277       4190      4184     4177         4185   4184   \n",
       "unique        4277          3         2     3265            3      2   \n",
       "top        0013_01      Earth     False  G/160/P  TRAPPIST-1e  False   \n",
       "freq             1       2263      2640        8         2956   4110   \n",
       "\n",
       "              Name  \n",
       "count         4183  \n",
       "unique        4176  \n",
       "top     Cints Erle  \n",
       "freq             2  "
      ]
     },
     "execution_count": 12,
     "metadata": {},
     "output_type": "execute_result"
    }
   ],
   "source": [
    "test.describe(include=['O'])"
   ]
  },
  {
   "cell_type": "code",
   "execution_count": 13,
   "id": "6cf00b46",
   "metadata": {
    "execution": {
     "iopub.execute_input": "2024-01-28T17:15:41.263607Z",
     "iopub.status.busy": "2024-01-28T17:15:41.263607Z",
     "iopub.status.idle": "2024-01-28T17:15:41.267029Z",
     "shell.execute_reply": "2024-01-28T17:15:41.267029Z"
    },
    "papermill": {
     "duration": 0.007423,
     "end_time": "2024-01-28T17:15:41.267029",
     "exception": false,
     "start_time": "2024-01-28T17:15:41.259606",
     "status": "completed"
    },
    "tags": []
   },
   "outputs": [
    {
     "name": "stdout",
     "output_type": "stream",
     "text": [
      "<class 'pandas.core.frame.DataFrame'>\n",
      "RangeIndex: 4277 entries, 0 to 4276\n",
      "Data columns (total 13 columns):\n",
      " #   Column        Non-Null Count  Dtype  \n",
      "---  ------        --------------  -----  \n",
      " 0   PassengerId   4277 non-null   object \n",
      " 1   HomePlanet    4190 non-null   object \n",
      " 2   CryoSleep     4184 non-null   object \n",
      " 3   Cabin         4177 non-null   object \n",
      " 4   Destination   4185 non-null   object \n",
      " 5   Age           4186 non-null   float64\n",
      " 6   VIP           4184 non-null   object \n",
      " 7   RoomService   4195 non-null   float64\n",
      " 8   FoodCourt     4171 non-null   float64\n",
      " 9   ShoppingMall  4179 non-null   float64\n",
      " 10  Spa           4176 non-null   float64\n",
      " 11  VRDeck        4197 non-null   float64\n",
      " 12  Name          4183 non-null   object \n",
      "dtypes: float64(6), object(7)\n",
      "memory usage: 434.5+ KB\n"
     ]
    }
   ],
   "source": [
    "test.info()"
   ]
  },
  {
   "cell_type": "code",
   "execution_count": 14,
   "id": "01fe2f6f",
   "metadata": {
    "execution": {
     "iopub.execute_input": "2024-01-28T17:15:41.275028Z",
     "iopub.status.busy": "2024-01-28T17:15:41.275028Z",
     "iopub.status.idle": "2024-01-28T17:15:41.277717Z",
     "shell.execute_reply": "2024-01-28T17:15:41.277717Z"
    },
    "papermill": {
     "duration": 0.007688,
     "end_time": "2024-01-28T17:15:41.278714",
     "exception": false,
     "start_time": "2024-01-28T17:15:41.271026",
     "status": "completed"
    },
    "tags": []
   },
   "outputs": [
    {
     "data": {
      "text/plain": [
       "PassengerId       0\n",
       "HomePlanet       87\n",
       "CryoSleep        93\n",
       "Cabin           100\n",
       "Destination      92\n",
       "Age              91\n",
       "VIP              93\n",
       "RoomService      82\n",
       "FoodCourt       106\n",
       "ShoppingMall     98\n",
       "Spa             101\n",
       "VRDeck           80\n",
       "Name             94\n",
       "dtype: int64"
      ]
     },
     "execution_count": 14,
     "metadata": {},
     "output_type": "execute_result"
    }
   ],
   "source": [
    "test.isnull().sum()"
   ]
  },
  {
   "cell_type": "markdown",
   "id": "f0339eb3",
   "metadata": {
    "papermill": {
     "duration": 0.004001,
     "end_time": "2024-01-28T17:15:41.285716",
     "exception": false,
     "start_time": "2024-01-28T17:15:41.281715",
     "status": "completed"
    },
    "tags": []
   },
   "source": [
    "В каждом столбце присутствуют пустые значения"
   ]
  },
  {
   "cell_type": "markdown",
   "id": "260ac3c1",
   "metadata": {
    "papermill": {
     "duration": 0.003,
     "end_time": "2024-01-28T17:15:41.292717",
     "exception": false,
     "start_time": "2024-01-28T17:15:41.289717",
     "status": "completed"
    },
    "tags": []
   },
   "source": [
    "## Зависимости признаков и того, был ли пассажир перемещён"
   ]
  },
  {
   "cell_type": "markdown",
   "id": "c54978e1",
   "metadata": {
    "papermill": {
     "duration": 0.003,
     "end_time": "2024-01-28T17:15:41.299719",
     "exception": false,
     "start_time": "2024-01-28T17:15:41.296719",
     "status": "completed"
    },
    "tags": []
   },
   "source": [
    "**Homeplanet and transported**"
   ]
  },
  {
   "cell_type": "code",
   "execution_count": 15,
   "id": "9da8056a",
   "metadata": {
    "execution": {
     "iopub.execute_input": "2024-01-28T17:15:41.307725Z",
     "iopub.status.busy": "2024-01-28T17:15:41.307725Z",
     "iopub.status.idle": "2024-01-28T17:15:41.310450Z",
     "shell.execute_reply": "2024-01-28T17:15:41.310450Z"
    },
    "papermill": {
     "duration": 0.00673,
     "end_time": "2024-01-28T17:15:41.310450",
     "exception": false,
     "start_time": "2024-01-28T17:15:41.303720",
     "status": "completed"
    },
    "tags": []
   },
   "outputs": [
    {
     "data": {
      "text/plain": [
       "HomePlanet\n",
       "Earth     4602\n",
       "Europa    2131\n",
       "Mars      1759\n",
       "Name: count, dtype: int64"
      ]
     },
     "execution_count": 15,
     "metadata": {},
     "output_type": "execute_result"
    }
   ],
   "source": [
    "train['HomePlanet'].value_counts()"
   ]
  },
  {
   "cell_type": "code",
   "execution_count": 16,
   "id": "4a43a9de",
   "metadata": {
    "execution": {
     "iopub.execute_input": "2024-01-28T17:15:41.318449Z",
     "iopub.status.busy": "2024-01-28T17:15:41.318449Z",
     "iopub.status.idle": "2024-01-28T17:15:41.322121Z",
     "shell.execute_reply": "2024-01-28T17:15:41.322121Z"
    },
    "papermill": {
     "duration": 0.007673,
     "end_time": "2024-01-28T17:15:41.322121",
     "exception": false,
     "start_time": "2024-01-28T17:15:41.314448",
     "status": "completed"
    },
    "tags": []
   },
   "outputs": [
    {
     "data": {
      "text/plain": [
       "HomePlanet  Transported\n",
       "Earth       False          2651\n",
       "            True           1951\n",
       "Europa      True           1404\n",
       "            False           727\n",
       "Mars        True            920\n",
       "            False           839\n",
       "Name: count, dtype: int64"
      ]
     },
     "execution_count": 16,
     "metadata": {},
     "output_type": "execute_result"
    }
   ],
   "source": [
    "train.groupby('HomePlanet').Transported.value_counts() # Сколько было перемещено для каждой планеты"
   ]
  },
  {
   "cell_type": "code",
   "execution_count": 17,
   "id": "df92c7b7",
   "metadata": {
    "execution": {
     "iopub.execute_input": "2024-01-28T17:15:41.330120Z",
     "iopub.status.busy": "2024-01-28T17:15:41.330120Z",
     "iopub.status.idle": "2024-01-28T17:15:41.333897Z",
     "shell.execute_reply": "2024-01-28T17:15:41.333897Z"
    },
    "papermill": {
     "duration": 0.007779,
     "end_time": "2024-01-28T17:15:41.333897",
     "exception": false,
     "start_time": "2024-01-28T17:15:41.326118",
     "status": "completed"
    },
    "tags": []
   },
   "outputs": [
    {
     "data": {
      "text/html": [
       "<div>\n",
       "<style scoped>\n",
       "    .dataframe tbody tr th:only-of-type {\n",
       "        vertical-align: middle;\n",
       "    }\n",
       "\n",
       "    .dataframe tbody tr th {\n",
       "        vertical-align: top;\n",
       "    }\n",
       "\n",
       "    .dataframe thead th {\n",
       "        text-align: right;\n",
       "    }\n",
       "</style>\n",
       "<table border=\"1\" class=\"dataframe\">\n",
       "  <thead>\n",
       "    <tr style=\"text-align: right;\">\n",
       "      <th></th>\n",
       "      <th>HomePlanet</th>\n",
       "      <th>Transported</th>\n",
       "    </tr>\n",
       "  </thead>\n",
       "  <tbody>\n",
       "    <tr>\n",
       "      <th>0</th>\n",
       "      <td>Earth</td>\n",
       "      <td>0.423946</td>\n",
       "    </tr>\n",
       "    <tr>\n",
       "      <th>1</th>\n",
       "      <td>Europa</td>\n",
       "      <td>0.658846</td>\n",
       "    </tr>\n",
       "    <tr>\n",
       "      <th>2</th>\n",
       "      <td>Mars</td>\n",
       "      <td>0.523024</td>\n",
       "    </tr>\n",
       "  </tbody>\n",
       "</table>\n",
       "</div>"
      ],
      "text/plain": [
       "  HomePlanet  Transported\n",
       "0      Earth     0.423946\n",
       "1     Europa     0.658846\n",
       "2       Mars     0.523024"
      ]
     },
     "execution_count": 17,
     "metadata": {},
     "output_type": "execute_result"
    }
   ],
   "source": [
    "train[['HomePlanet', 'Transported']].groupby('HomePlanet', as_index=False).mean()"
   ]
  },
  {
   "cell_type": "code",
   "execution_count": 18,
   "id": "91b94132",
   "metadata": {
    "execution": {
     "iopub.execute_input": "2024-01-28T17:15:41.341896Z",
     "iopub.status.busy": "2024-01-28T17:15:41.341896Z",
     "iopub.status.idle": "2024-01-28T17:15:41.500873Z",
     "shell.execute_reply": "2024-01-28T17:15:41.500873Z"
    },
    "papermill": {
     "duration": 0.162979,
     "end_time": "2024-01-28T17:15:41.500873",
     "exception": false,
     "start_time": "2024-01-28T17:15:41.337894",
     "status": "completed"
    },
    "tags": []
   },
   "outputs": [
    {
     "data": {
      "text/plain": [
       "<Axes: xlabel='HomePlanet', ylabel='Transported'>"
      ]
     },
     "execution_count": 18,
     "metadata": {},
     "output_type": "execute_result"
    },
    {
     "data": {
      "image/png": "[encoded data removed]",
      "text/plain": [
       "<Figure size 640x480 with 1 Axes>"
      ]
     },
     "metadata": {},
     "output_type": "display_data"
    }
   ],
   "source": [
    "sns.barplot(x='HomePlanet', y='Transported', data=train)"
   ]
  },
  {
   "cell_type": "markdown",
   "id": "b13e0d6c",
   "metadata": {
    "papermill": {
     "duration": 0.004001,
     "end_time": "2024-01-28T17:15:41.509866",
     "exception": false,
     "start_time": "2024-01-28T17:15:41.505865",
     "status": "completed"
    },
    "tags": []
   },
   "source": [
    "**CryoSleep and transported**"
   ]
  },
  {
   "cell_type": "code",
   "execution_count": 19,
   "id": "68389dc5",
   "metadata": {
    "execution": {
     "iopub.execute_input": "2024-01-28T17:15:41.517868Z",
     "iopub.status.busy": "2024-01-28T17:15:41.517868Z",
     "iopub.status.idle": "2024-01-28T17:15:41.521262Z",
     "shell.execute_reply": "2024-01-28T17:15:41.521262Z"
    },
    "papermill": {
     "duration": 0.007395,
     "end_time": "2024-01-28T17:15:41.521262",
     "exception": false,
     "start_time": "2024-01-28T17:15:41.513867",
     "status": "completed"
    },
    "tags": []
   },
   "outputs": [
    {
     "data": {
      "text/plain": [
       "CryoSleep\n",
       "False    5439\n",
       "True     3037\n",
       "Name: count, dtype: int64"
      ]
     },
     "execution_count": 19,
     "metadata": {},
     "output_type": "execute_result"
    }
   ],
   "source": [
    "train.CryoSleep.value_counts()"
   ]
  },
  {
   "cell_type": "code",
   "execution_count": 20,
   "id": "8cb920f7",
   "metadata": {
    "execution": {
     "iopub.execute_input": "2024-01-28T17:15:41.530261Z",
     "iopub.status.busy": "2024-01-28T17:15:41.530261Z",
     "iopub.status.idle": "2024-01-28T17:15:41.533921Z",
     "shell.execute_reply": "2024-01-28T17:15:41.533921Z"
    },
    "papermill": {
     "duration": 0.008661,
     "end_time": "2024-01-28T17:15:41.533921",
     "exception": false,
     "start_time": "2024-01-28T17:15:41.525260",
     "status": "completed"
    },
    "tags": []
   },
   "outputs": [
    {
     "data": {
      "text/plain": [
       "CryoSleep  Transported\n",
       "False      False          3650\n",
       "           True           1789\n",
       "True       True           2483\n",
       "           False           554\n",
       "Name: count, dtype: int64"
      ]
     },
     "execution_count": 20,
     "metadata": {},
     "output_type": "execute_result"
    }
   ],
   "source": [
    "train.groupby('CryoSleep').Transported.value_counts()"
   ]
  },
  {
   "cell_type": "code",
   "execution_count": 21,
   "id": "1daf27db",
   "metadata": {
    "execution": {
     "iopub.execute_input": "2024-01-28T17:15:41.542921Z",
     "iopub.status.busy": "2024-01-28T17:15:41.541920Z",
     "iopub.status.idle": "2024-01-28T17:15:41.546372Z",
     "shell.execute_reply": "2024-01-28T17:15:41.546372Z"
    },
    "papermill": {
     "duration": 0.008453,
     "end_time": "2024-01-28T17:15:41.546372",
     "exception": false,
     "start_time": "2024-01-28T17:15:41.537919",
     "status": "completed"
    },
    "tags": []
   },
   "outputs": [
    {
     "data": {
      "text/html": [
       "<div>\n",
       "<style scoped>\n",
       "    .dataframe tbody tr th:only-of-type {\n",
       "        vertical-align: middle;\n",
       "    }\n",
       "\n",
       "    .dataframe tbody tr th {\n",
       "        vertical-align: top;\n",
       "    }\n",
       "\n",
       "    .dataframe thead th {\n",
       "        text-align: right;\n",
       "    }\n",
       "</style>\n",
       "<table border=\"1\" class=\"dataframe\">\n",
       "  <thead>\n",
       "    <tr style=\"text-align: right;\">\n",
       "      <th></th>\n",
       "      <th>CryoSleep</th>\n",
       "      <th>Transported</th>\n",
       "    </tr>\n",
       "  </thead>\n",
       "  <tbody>\n",
       "    <tr>\n",
       "      <th>0</th>\n",
       "      <td>False</td>\n",
       "      <td>0.328921</td>\n",
       "    </tr>\n",
       "    <tr>\n",
       "      <th>1</th>\n",
       "      <td>True</td>\n",
       "      <td>0.817583</td>\n",
       "    </tr>\n",
       "  </tbody>\n",
       "</table>\n",
       "</div>"
      ],
      "text/plain": [
       "  CryoSleep  Transported\n",
       "0     False     0.328921\n",
       "1      True     0.817583"
      ]
     },
     "execution_count": 21,
     "metadata": {},
     "output_type": "execute_result"
    }
   ],
   "source": [
    "train[['CryoSleep', 'Transported']].groupby('CryoSleep', as_index=False).mean()"
   ]
  },
  {
   "cell_type": "code",
   "execution_count": 22,
   "id": "279d3b3d",
   "metadata": {
    "execution": {
     "iopub.execute_input": "2024-01-28T17:15:41.555371Z",
     "iopub.status.busy": "2024-01-28T17:15:41.555371Z",
     "iopub.status.idle": "2024-01-28T17:15:41.660132Z",
     "shell.execute_reply": "2024-01-28T17:15:41.660132Z"
    },
    "papermill": {
     "duration": 0.109762,
     "end_time": "2024-01-28T17:15:41.660132",
     "exception": false,
     "start_time": "2024-01-28T17:15:41.550370",
     "status": "completed"
    },
    "tags": []
   },
   "outputs": [
    {
     "data": {
      "text/plain": [
       "<Axes: xlabel='CryoSleep', ylabel='Transported'>"
      ]
     },
     "execution_count": 22,
     "metadata": {},
     "output_type": "execute_result"
    },
    {
     "data": {
      "image/png": "[encoded data removed]",
      "text/plain": [
       "<Figure size 640x480 with 1 Axes>"
      ]
     },
     "metadata": {},
     "output_type": "display_data"
    }
   ],
   "source": [
    "sns.barplot(x='CryoSleep', y='Transported', data=train)\n"
   ]
  },
  {
   "cell_type": "markdown",
   "id": "c01f36b6",
   "metadata": {
    "papermill": {
     "duration": 0.003806,
     "end_time": "2024-01-28T17:15:41.669128",
     "exception": false,
     "start_time": "2024-01-28T17:15:41.665322",
     "status": "completed"
    },
    "tags": []
   },
   "source": [
    "**Age and transported**"
   ]
  },
  {
   "cell_type": "markdown",
   "id": "1f872e31",
   "metadata": {
    "papermill": {
     "duration": 0.004001,
     "end_time": "2024-01-28T17:15:41.677127",
     "exception": false,
     "start_time": "2024-01-28T17:15:41.673126",
     "status": "completed"
    },
    "tags": []
   },
   "source": [
    "Разобъём возраст на 8 возрастных групп и проанализируем зависимость."
   ]
  },
  {
   "cell_type": "code",
   "execution_count": 23,
   "id": "9f6d688c",
   "metadata": {
    "execution": {
     "iopub.execute_input": "2024-01-28T17:15:41.686130Z",
     "iopub.status.busy": "2024-01-28T17:15:41.686130Z",
     "iopub.status.idle": "2024-01-28T17:15:41.688540Z",
     "shell.execute_reply": "2024-01-28T17:15:41.688540Z"
    },
    "papermill": {
     "duration": 0.007412,
     "end_time": "2024-01-28T17:15:41.688540",
     "exception": false,
     "start_time": "2024-01-28T17:15:41.681128",
     "status": "completed"
    },
    "tags": []
   },
   "outputs": [
    {
     "data": {
      "text/plain": [
       "(0.0, 79.0)"
      ]
     },
     "execution_count": 23,
     "metadata": {},
     "output_type": "execute_result"
    }
   ],
   "source": [
    "(train['Age'].min(), train['Age'].max())"
   ]
  },
  {
   "cell_type": "code",
   "execution_count": 24,
   "id": "4511c61d",
   "metadata": {
    "execution": {
     "iopub.execute_input": "2024-01-28T17:15:41.697538Z",
     "iopub.status.busy": "2024-01-28T17:15:41.697538Z",
     "iopub.status.idle": "2024-01-28T17:15:41.699945Z",
     "shell.execute_reply": "2024-01-28T17:15:41.699945Z"
    },
    "papermill": {
     "duration": 0.008402,
     "end_time": "2024-01-28T17:15:41.700939",
     "exception": false,
     "start_time": "2024-01-28T17:15:41.692537",
     "status": "completed"
    },
    "tags": []
   },
   "outputs": [],
   "source": [
    "train['Age_group'] = pd.cut(train['Age'], bins=[-1, 10, 20, 30, 40, 50, 60, 70, 80], labels=False)"
   ]
  },
  {
   "cell_type": "code",
   "execution_count": 25,
   "id": "9454191d",
   "metadata": {
    "execution": {
     "iopub.execute_input": "2024-01-28T17:15:41.708942Z",
     "iopub.status.busy": "2024-01-28T17:15:41.708942Z",
     "iopub.status.idle": "2024-01-28T17:15:41.713408Z",
     "shell.execute_reply": "2024-01-28T17:15:41.713408Z"
    },
    "papermill": {
     "duration": 0.008467,
     "end_time": "2024-01-28T17:15:41.713408",
     "exception": false,
     "start_time": "2024-01-28T17:15:41.704941",
     "status": "completed"
    },
    "tags": []
   },
   "outputs": [
    {
     "data": {
      "text/html": [
       "<div>\n",
       "<style scoped>\n",
       "    .dataframe tbody tr th:only-of-type {\n",
       "        vertical-align: middle;\n",
       "    }\n",
       "\n",
       "    .dataframe tbody tr th {\n",
       "        vertical-align: top;\n",
       "    }\n",
       "\n",
       "    .dataframe thead th {\n",
       "        text-align: right;\n",
       "    }\n",
       "</style>\n",
       "<table border=\"1\" class=\"dataframe\">\n",
       "  <thead>\n",
       "    <tr style=\"text-align: right;\">\n",
       "      <th></th>\n",
       "      <th>Age_group</th>\n",
       "      <th>Transported</th>\n",
       "    </tr>\n",
       "  </thead>\n",
       "  <tbody>\n",
       "    <tr>\n",
       "      <th>0</th>\n",
       "      <td>0.0</td>\n",
       "      <td>0.707521</td>\n",
       "    </tr>\n",
       "    <tr>\n",
       "      <th>1</th>\n",
       "      <td>1.0</td>\n",
       "      <td>0.517764</td>\n",
       "    </tr>\n",
       "    <tr>\n",
       "      <th>2</th>\n",
       "      <td>2.0</td>\n",
       "      <td>0.469265</td>\n",
       "    </tr>\n",
       "    <tr>\n",
       "      <th>3</th>\n",
       "      <td>3.0</td>\n",
       "      <td>0.468452</td>\n",
       "    </tr>\n",
       "    <tr>\n",
       "      <th>4</th>\n",
       "      <td>4.0</td>\n",
       "      <td>0.497988</td>\n",
       "    </tr>\n",
       "    <tr>\n",
       "      <th>5</th>\n",
       "      <td>5.0</td>\n",
       "      <td>0.489362</td>\n",
       "    </tr>\n",
       "    <tr>\n",
       "      <th>6</th>\n",
       "      <td>6.0</td>\n",
       "      <td>0.491803</td>\n",
       "    </tr>\n",
       "    <tr>\n",
       "      <th>7</th>\n",
       "      <td>7.0</td>\n",
       "      <td>0.378378</td>\n",
       "    </tr>\n",
       "  </tbody>\n",
       "</table>\n",
       "</div>"
      ],
      "text/plain": [
       "   Age_group  Transported\n",
       "0        0.0     0.707521\n",
       "1        1.0     0.517764\n",
       "2        2.0     0.469265\n",
       "3        3.0     0.468452\n",
       "4        4.0     0.497988\n",
       "5        5.0     0.489362\n",
       "6        6.0     0.491803\n",
       "7        7.0     0.378378"
      ]
     },
     "execution_count": 25,
     "metadata": {},
     "output_type": "execute_result"
    }
   ],
   "source": [
    "train[['Age_group', 'Transported']].groupby('Age_group', as_index=False).mean()"
   ]
  },
  {
   "cell_type": "code",
   "execution_count": 26,
   "id": "8edba6a0",
   "metadata": {
    "execution": {
     "iopub.execute_input": "2024-01-28T17:15:41.722407Z",
     "iopub.status.busy": "2024-01-28T17:15:41.722407Z",
     "iopub.status.idle": "2024-01-28T17:15:41.887982Z",
     "shell.execute_reply": "2024-01-28T17:15:41.887982Z"
    },
    "papermill": {
     "duration": 0.170577,
     "end_time": "2024-01-28T17:15:41.887982",
     "exception": false,
     "start_time": "2024-01-28T17:15:41.717405",
     "status": "completed"
    },
    "tags": []
   },
   "outputs": [
    {
     "data": {
      "text/plain": [
       "<Axes: xlabel='Age_group', ylabel='Transported'>"
      ]
     },
     "execution_count": 26,
     "metadata": {},
     "output_type": "execute_result"
    },
    {
     "data": {
      "image/png": "[encoded data removed]",
      "text/plain": [
       "<Figure size 640x480 with 1 Axes>"
      ]
     },
     "metadata": {},
     "output_type": "display_data"
    }
   ],
   "source": [
    "sns.barplot(x='Age_group', y='Transported', data=train)"
   ]
  },
  {
   "cell_type": "markdown",
   "id": "8ad70d06",
   "metadata": {
    "papermill": {
     "duration": 0.005001,
     "end_time": "2024-01-28T17:15:41.897981",
     "exception": false,
     "start_time": "2024-01-28T17:15:41.892980",
     "status": "completed"
    },
    "tags": []
   },
   "source": [
    "**Destination and Transported**"
   ]
  },
  {
   "cell_type": "code",
   "execution_count": 27,
   "id": "be4b680a",
   "metadata": {
    "execution": {
     "iopub.execute_input": "2024-01-28T17:15:41.906983Z",
     "iopub.status.busy": "2024-01-28T17:15:41.906983Z",
     "iopub.status.idle": "2024-01-28T17:15:41.910373Z",
     "shell.execute_reply": "2024-01-28T17:15:41.910373Z"
    },
    "papermill": {
     "duration": 0.008392,
     "end_time": "2024-01-28T17:15:41.910373",
     "exception": false,
     "start_time": "2024-01-28T17:15:41.901981",
     "status": "completed"
    },
    "tags": []
   },
   "outputs": [
    {
     "data": {
      "text/plain": [
       "Destination\n",
       "TRAPPIST-1e      5915\n",
       "55 Cancri e      1800\n",
       "PSO J318.5-22     796\n",
       "Name: count, dtype: int64"
      ]
     },
     "execution_count": 27,
     "metadata": {},
     "output_type": "execute_result"
    }
   ],
   "source": [
    "train.Destination.value_counts()"
   ]
  },
  {
   "cell_type": "code",
   "execution_count": 28,
   "id": "c6e56026",
   "metadata": {
    "execution": {
     "iopub.execute_input": "2024-01-28T17:15:41.919371Z",
     "iopub.status.busy": "2024-01-28T17:15:41.919371Z",
     "iopub.status.idle": "2024-01-28T17:15:42.032577Z",
     "shell.execute_reply": "2024-01-28T17:15:42.032577Z"
    },
    "papermill": {
     "duration": 0.117205,
     "end_time": "2024-01-28T17:15:42.032577",
     "exception": false,
     "start_time": "2024-01-28T17:15:41.915372",
     "status": "completed"
    },
    "tags": []
   },
   "outputs": [
    {
     "data": {
      "text/plain": [
       "<Axes: xlabel='Destination', ylabel='Transported'>"
      ]
     },
     "execution_count": 28,
     "metadata": {},
     "output_type": "execute_result"
    },
    {
     "data": {
      "image/png": "[encoded data removed]",
      "text/plain": [
       "<Figure size 640x480 with 1 Axes>"
      ]
     },
     "metadata": {},
     "output_type": "display_data"
    }
   ],
   "source": [
    "sns.barplot(x='Destination', y='Transported', data=train)"
   ]
  },
  {
   "cell_type": "markdown",
   "id": "57fe9e55",
   "metadata": {
    "papermill": {
     "duration": 0.005002,
     "end_time": "2024-01-28T17:15:42.042577",
     "exception": false,
     "start_time": "2024-01-28T17:15:42.037575",
     "status": "completed"
    },
    "tags": []
   },
   "source": [
    "**Age, sleep and Transported**"
   ]
  },
  {
   "cell_type": "markdown",
   "id": "e3f171ef",
   "metadata": {
    "papermill": {
     "duration": 0.005002,
     "end_time": "2024-01-28T17:15:42.051579",
     "exception": false,
     "start_time": "2024-01-28T17:15:42.046577",
     "status": "completed"
    },
    "tags": []
   },
   "source": [
    "Т.к. нахождение в криптосне сильно влияет на вероятность перемещения, проанализируем влияние принадлежности к возрастным группам и нахождения в криптосне одновременно."
   ]
  },
  {
   "cell_type": "code",
   "execution_count": 29,
   "id": "ab4dedf6",
   "metadata": {
    "execution": {
     "iopub.execute_input": "2024-01-28T17:15:42.061581Z",
     "iopub.status.busy": "2024-01-28T17:15:42.060580Z",
     "iopub.status.idle": "2024-01-28T17:15:42.066392Z",
     "shell.execute_reply": "2024-01-28T17:15:42.066392Z"
    },
    "papermill": {
     "duration": 0.01181,
     "end_time": "2024-01-28T17:15:42.067389",
     "exception": false,
     "start_time": "2024-01-28T17:15:42.055579",
     "status": "completed"
    },
    "tags": []
   },
   "outputs": [],
   "source": [
    "total_transported = train[train['Transported']==1]\n",
    "total_not_transported = train[train['Transported']==0]\n",
    "sleep_transported = train[(train['Transported']==1) & (train['CryoSleep']==1)]\n",
    "not_sleep_transported = train[(train['Transported']==1) & (train['CryoSleep']==0)]\n",
    "sleep_not_transported = train[(train['Transported']==0) & (train['CryoSleep']==1)]\n",
    "not_sleep_not_transported = train[(train['Transported']==0) & (train['CryoSleep']==0)]"
   ]
  },
  {
   "cell_type": "code",
   "execution_count": 30,
   "id": "132e76d9",
   "metadata": {
    "execution": {
     "iopub.execute_input": "2024-01-28T17:15:42.076391Z",
     "iopub.status.busy": "2024-01-28T17:15:42.076391Z",
     "iopub.status.idle": "2024-01-28T17:15:42.326291Z",
     "shell.execute_reply": "2024-01-28T17:15:42.326291Z"
    },
    "papermill": {
     "duration": 0.254902,
     "end_time": "2024-01-28T17:15:42.326291",
     "exception": false,
     "start_time": "2024-01-28T17:15:42.071389",
     "status": "completed"
    },
    "tags": []
   },
   "outputs": [
    {
     "name": "stderr",
     "output_type": "stream",
     "text": [
      "C:\\Users\\Remix\\AppData\\Local\\Temp\\ipykernel_28320\\2464555525.py:3: UserWarning: \n",
      "\n",
      "`distplot` is a deprecated function and will be removed in seaborn v0.14.0.\n",
      "\n",
      "Please adapt your code to use either `displot` (a figure-level function with\n",
      "similar flexibility) or `histplot` (an axes-level function for histograms).\n",
      "\n",
      "For a guide to updating your code to use the new functions, please see\n",
      "https://gist.github.com/mwaskom/de44147ed2974457ad6372750bbe5751\n",
      "\n",
      "  sns.distplot(total_transported['Age_group'].dropna().values, bins=range(0, 8, 1), kde=False, color='blue', ax = ax1)\n",
      "C:\\Users\\Remix\\AppData\\Local\\Temp\\ipykernel_28320\\2464555525.py:4: UserWarning: \n",
      "\n",
      "`distplot` is a deprecated function and will be removed in seaborn v0.14.0.\n",
      "\n",
      "Please adapt your code to use either `displot` (a figure-level function with\n",
      "similar flexibility) or `histplot` (an axes-level function for histograms).\n",
      "\n",
      "For a guide to updating your code to use the new functions, please see\n",
      "https://gist.github.com/mwaskom/de44147ed2974457ad6372750bbe5751\n",
      "\n",
      "  sns.distplot(total_not_transported['Age_group'].dropna().values, bins=range(0, 8, 1), kde=False, color='red', axlabel='Age', ax = ax1)\n",
      "C:\\Users\\Remix\\AppData\\Local\\Temp\\ipykernel_28320\\2464555525.py:7: UserWarning: \n",
      "\n",
      "`distplot` is a deprecated function and will be removed in seaborn v0.14.0.\n",
      "\n",
      "Please adapt your code to use either `displot` (a figure-level function with\n",
      "similar flexibility) or `histplot` (an axes-level function for histograms).\n",
      "\n",
      "For a guide to updating your code to use the new functions, please see\n",
      "https://gist.github.com/mwaskom/de44147ed2974457ad6372750bbe5751\n",
      "\n",
      "  sns.distplot(sleep_transported['Age_group'].dropna().values, bins=range(0, 8, 1), kde=False, color='blue', ax = ax2)\n",
      "C:\\Users\\Remix\\AppData\\Local\\Temp\\ipykernel_28320\\2464555525.py:8: UserWarning: \n",
      "\n",
      "`distplot` is a deprecated function and will be removed in seaborn v0.14.0.\n",
      "\n",
      "Please adapt your code to use either `displot` (a figure-level function with\n",
      "similar flexibility) or `histplot` (an axes-level function for histograms).\n",
      "\n",
      "For a guide to updating your code to use the new functions, please see\n",
      "https://gist.github.com/mwaskom/de44147ed2974457ad6372750bbe5751\n",
      "\n",
      "  sns.distplot(sleep_not_transported['Age_group'].dropna().values, bins=range(0, 8, 1), kde=False, color='red', axlabel='Sleep', ax = ax2)\n",
      "C:\\Users\\Remix\\AppData\\Local\\Temp\\ipykernel_28320\\2464555525.py:11: UserWarning: \n",
      "\n",
      "`distplot` is a deprecated function and will be removed in seaborn v0.14.0.\n",
      "\n",
      "Please adapt your code to use either `displot` (a figure-level function with\n",
      "similar flexibility) or `histplot` (an axes-level function for histograms).\n",
      "\n",
      "For a guide to updating your code to use the new functions, please see\n",
      "https://gist.github.com/mwaskom/de44147ed2974457ad6372750bbe5751\n",
      "\n",
      "  sns.distplot(not_sleep_transported['Age_group'].dropna().values, bins=range(0, 8, 1), kde=False, color='blue', ax=ax3)\n",
      "C:\\Users\\Remix\\AppData\\Local\\Temp\\ipykernel_28320\\2464555525.py:12: UserWarning: \n",
      "\n",
      "`distplot` is a deprecated function and will be removed in seaborn v0.14.0.\n",
      "\n",
      "Please adapt your code to use either `displot` (a figure-level function with\n",
      "similar flexibility) or `histplot` (an axes-level function for histograms).\n",
      "\n",
      "For a guide to updating your code to use the new functions, please see\n",
      "https://gist.github.com/mwaskom/de44147ed2974457ad6372750bbe5751\n",
      "\n",
      "  sns.distplot(not_sleep_not_transported['Age_group'].dropna().values, bins=range(0, 8, 1), kde=False, color='red', axlabel='Not sleep', ax=ax3)\n"
     ]
    },
    {
     "data": {
      "text/plain": [
       "<Axes: xlabel='Not sleep'>"
      ]
     },
     "execution_count": 30,
     "metadata": {},
     "output_type": "execute_result"
    },
    {
     "data": {
      "image/png": "[encoded data removed]",
      "text/plain": [
       "<Figure size 1500x1000 with 3 Axes>"
      ]
     },
     "metadata": {},
     "output_type": "display_data"
    }
   ],
   "source": [
    "fig = plt.figure(figsize=[15,10])\n",
    "ax1 = fig.add_subplot(211)\n",
    "sns.distplot(total_transported['Age_group'].dropna().values, bins=range(0, 8, 1), kde=False, color='blue', ax = ax1)\n",
    "sns.distplot(total_not_transported['Age_group'].dropna().values, bins=range(0, 8, 1), kde=False, color='red', axlabel='Age', ax = ax1)\n",
    "\n",
    "ax2 = fig.add_subplot(223)\n",
    "sns.distplot(sleep_transported['Age_group'].dropna().values, bins=range(0, 8, 1), kde=False, color='blue', ax = ax2)\n",
    "sns.distplot(sleep_not_transported['Age_group'].dropna().values, bins=range(0, 8, 1), kde=False, color='red', axlabel='Sleep', ax = ax2)\n",
    "\n",
    "ax3 = fig.add_subplot(224)\n",
    "sns.distplot(not_sleep_transported['Age_group'].dropna().values, bins=range(0, 8, 1), kde=False, color='blue', ax=ax3)\n",
    "sns.distplot(not_sleep_not_transported['Age_group'].dropna().values, bins=range(0, 8, 1), kde=False, color='red', axlabel='Not sleep', ax=ax3)"
   ]
  },
  {
   "cell_type": "markdown",
   "id": "864c171a",
   "metadata": {
    "papermill": {
     "duration": 0.004001,
     "end_time": "2024-01-28T17:15:42.336286",
     "exception": false,
     "start_time": "2024-01-28T17:15:42.332285",
     "status": "completed"
    },
    "tags": []
   },
   "source": [
    "Отсюда можно увидеть, что большая часть перемещённых пассажиров для возрастов от 10 до 40 лет не находились в криптосне. В то же время видно, что в возрастной группе до 10 лет нахождение в криптосне не дало таких эффектов."
   ]
  }
 ],
 "metadata": {
  "kaggle": {
   "accelerator": "none",
   "dataSources": [
    {
     "databundleVersionId": 26502,
     "sourceId": 3136,
     "sourceType": "competition"
    }
   ],
   "dockerImageVersionId": 30635,
   "isGpuEnabled": false,
   "isInternetEnabled": false,
   "language": "python",
   "sourceType": "notebook"
  },
  "kernelspec": {
   "display_name": "Python 3 (ipykernel)",
   "language": "python",
   "name": "python3"
  },
  "language_info": {
   "codemirror_mode": {
    "name": "ipython",
    "version": 3
   },
   "file_extension": ".py",
   "mimetype": "text/x-python",
   "name": "python",
   "nbconvert_exporter": "python",
   "pygments_lexer": "ipython3",
   "version": "3.11.6"
  },
  "papermill": {
   "default_parameters": {},
   "duration": 3.472933,
   "end_time": "2024-01-28T17:15:42.587339",
   "environment_variables": {},
   "exception": null,
   "input_path": "F:\\Desktop\\Elyra pipeline\\Part1.ipynb",
   "output_path": "F:\\Desktop\\Elyra pipeline\\Part1.ipynb",
   "parameters": {},
   "start_time": "2024-01-28T17:15:39.114406",
   "version": "2.5.0"
  }
 },
 "nbformat": 4,
 "nbformat_minor": 5
}